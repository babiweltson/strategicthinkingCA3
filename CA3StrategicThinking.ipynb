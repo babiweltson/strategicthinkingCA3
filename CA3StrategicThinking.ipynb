{
  "nbformat": 4,
  "nbformat_minor": 0,
  "metadata": {
    "colab": {
      "provenance": []
    },
    "kernelspec": {
      "name": "python3",
      "display_name": "Python 3"
    },
    "language_info": {
      "name": "python"
    }
  },
  "cells": [
    {
      "cell_type": "code",
      "source": [
        "import pandas as pd\n",
        "import numpy as np\n",
        "import matplotlib.pyplot as plt\n",
        "import seaborn as sns\n",
        "from sklearn.model_selection import train_test_split, cross_val_score, GridSearchCV\n",
        "from sklearn.preprocessing import StandardScaler, OneHotEncoder"
      ],
      "metadata": {
        "id": "OwJ4pV-vKjs4"
      },
      "execution_count": 16,
      "outputs": []
    },
    {
      "cell_type": "code",
      "execution_count": 4,
      "metadata": {
        "colab": {
          "base_uri": "https://localhost:8080/"
        },
        "id": "kVmBRDQTvfuK",
        "outputId": "5be40aa8-1c0d-4014-a1ca-6a1d50965e42"
      },
      "outputs": [
        {
          "output_type": "stream",
          "name": "stdout",
          "text": [
            "Mounted at /content/gdrive\n"
          ]
        }
      ],
      "source": [
        "from google.colab import drive\n",
        "drive.mount('/content/gdrive')"
      ]
    },
    {
      "cell_type": "code",
      "source": [
        "import pandas as pd\n",
        "housing_data1=pd.read_csv('gdrive/My Drive/HousingPrices.csv')\n",
        "\n",
        "housing_data2=pd.read_csv('gdrive/My Drive/HousingPrices2021.csv')"
      ],
      "metadata": {
        "id": "SlFUg_Hlv4H9"
      },
      "execution_count": 42,
      "outputs": []
    },
    {
      "cell_type": "code",
      "source": [
        "housing_data_ = housing_data1[housing_data1['Year'] >= 2000]"
      ],
      "metadata": {
        "id": "NI5pjSYlYYGg"
      },
      "execution_count": 43,
      "outputs": []
    },
    {
      "cell_type": "code",
      "source": [
        "housing_data1.describe"
      ],
      "metadata": {
        "colab": {
          "base_uri": "https://localhost:8080/",
          "height": 187
        },
        "id": "WzufHEuLw53z",
        "outputId": "e452e863-4755-45e9-d725-d41950b8b464"
      },
      "execution_count": 44,
      "outputs": [
        {
          "output_type": "execute_result",
          "data": {
            "text/plain": [
              "<bound method NDFrame.describe of     STATISTIC           Statistic Label  TLIST(A1)  Year C02343V02817  \\\n",
              "0     HSA06C1          New House Prices       1975  1975            -   \n",
              "1     HSA06C1          New House Prices       1975  1975           01   \n",
              "2     HSA06C1          New House Prices       1975  1975           02   \n",
              "3     HSA06C1          New House Prices       1975  1975           03   \n",
              "4     HSA06C1          New House Prices       1975  1975           04   \n",
              "..        ...                       ...        ...   ...          ...   \n",
              "583   HSA06C2  Second Hand House Prices       2016  2016           02   \n",
              "584   HSA06C2  Second Hand House Prices       2016  2016           03   \n",
              "585   HSA06C2  Second Hand House Prices       2016  2016           04   \n",
              "586   HSA06C2  Second Hand House Prices       2016  2016           05   \n",
              "587   HSA06C2  Second Hand House Prices       2016  2016           06   \n",
              "\n",
              "            Area  UNIT     VALUE  \n",
              "0       National  Euro   13254.0  \n",
              "1         Dublin  Euro   13137.0  \n",
              "2           Cork  Euro   12921.0  \n",
              "3         Galway  Euro   14420.0  \n",
              "4       Limerick  Euro   13594.0  \n",
              "..           ...   ...       ...  \n",
              "583         Cork  Euro  240683.0  \n",
              "584       Galway  Euro  214645.0  \n",
              "585     Limerick  Euro  192721.0  \n",
              "586    Waterford  Euro  179609.0  \n",
              "587  Other areas  Euro  201272.0  \n",
              "\n",
              "[588 rows x 8 columns]>"
            ],
            "text/html": [
              "<div style=\"max-width:800px; border: 1px solid var(--colab-border-color);\"><style>\n",
              "      pre.function-repr-contents {\n",
              "        overflow-x: auto;\n",
              "        padding: 8px 12px;\n",
              "        max-height: 500px;\n",
              "      }\n",
              "\n",
              "      pre.function-repr-contents.function-repr-contents-collapsed {\n",
              "        cursor: pointer;\n",
              "        max-height: 100px;\n",
              "      }\n",
              "    </style>\n",
              "    <pre style=\"white-space: initial; background:\n",
              "         var(--colab-secondary-surface-color); padding: 8px 12px;\n",
              "         border-bottom: 1px solid var(--colab-border-color);\"><b>pandas.core.generic.NDFrame.describe</b><br/>def describe(percentiles=None, include=None, exclude=None) -&gt; Self</pre><pre class=\"function-repr-contents function-repr-contents-collapsed\" style=\"\"><a class=\"filepath\" style=\"display:none\" href=\"#\">/usr/local/lib/python3.11/dist-packages/pandas/core/generic.py</a>Generate descriptive statistics.\n",
              "\n",
              "Descriptive statistics include those that summarize the central\n",
              "tendency, dispersion and shape of a\n",
              "dataset&#x27;s distribution, excluding ``NaN`` values.\n",
              "\n",
              "Analyzes both numeric and object series, as well\n",
              "as ``DataFrame`` column sets of mixed data types. The output\n",
              "will vary depending on what is provided. Refer to the notes\n",
              "below for more detail.\n",
              "\n",
              "Parameters\n",
              "----------\n",
              "percentiles : list-like of numbers, optional\n",
              "    The percentiles to include in the output. All should\n",
              "    fall between 0 and 1. The default is\n",
              "    ``[.25, .5, .75]``, which returns the 25th, 50th, and\n",
              "    75th percentiles.\n",
              "include : &#x27;all&#x27;, list-like of dtypes or None (default), optional\n",
              "    A white list of data types to include in the result. Ignored\n",
              "    for ``Series``. Here are the options:\n",
              "\n",
              "    - &#x27;all&#x27; : All columns of the input will be included in the output.\n",
              "    - A list-like of dtypes : Limits the results to the\n",
              "      provided data types.\n",
              "      To limit the result to numeric types submit\n",
              "      ``numpy.number``. To limit it instead to object columns submit\n",
              "      the ``numpy.object`` data type. Strings\n",
              "      can also be used in the style of\n",
              "      ``select_dtypes`` (e.g. ``df.describe(include=[&#x27;O&#x27;])``). To\n",
              "      select pandas categorical columns, use ``&#x27;category&#x27;``\n",
              "    - None (default) : The result will include all numeric columns.\n",
              "exclude : list-like of dtypes or None (default), optional,\n",
              "    A black list of data types to omit from the result. Ignored\n",
              "    for ``Series``. Here are the options:\n",
              "\n",
              "    - A list-like of dtypes : Excludes the provided data types\n",
              "      from the result. To exclude numeric types submit\n",
              "      ``numpy.number``. To exclude object columns submit the data\n",
              "      type ``numpy.object``. Strings can also be used in the style of\n",
              "      ``select_dtypes`` (e.g. ``df.describe(exclude=[&#x27;O&#x27;])``). To\n",
              "      exclude pandas categorical columns, use ``&#x27;category&#x27;``\n",
              "    - None (default) : The result will exclude nothing.\n",
              "\n",
              "Returns\n",
              "-------\n",
              "Series or DataFrame\n",
              "    Summary statistics of the Series or Dataframe provided.\n",
              "\n",
              "See Also\n",
              "--------\n",
              "DataFrame.count: Count number of non-NA/null observations.\n",
              "DataFrame.max: Maximum of the values in the object.\n",
              "DataFrame.min: Minimum of the values in the object.\n",
              "DataFrame.mean: Mean of the values.\n",
              "DataFrame.std: Standard deviation of the observations.\n",
              "DataFrame.select_dtypes: Subset of a DataFrame including/excluding\n",
              "    columns based on their dtype.\n",
              "\n",
              "Notes\n",
              "-----\n",
              "For numeric data, the result&#x27;s index will include ``count``,\n",
              "``mean``, ``std``, ``min``, ``max`` as well as lower, ``50`` and\n",
              "upper percentiles. By default the lower percentile is ``25`` and the\n",
              "upper percentile is ``75``. The ``50`` percentile is the\n",
              "same as the median.\n",
              "\n",
              "For object data (e.g. strings or timestamps), the result&#x27;s index\n",
              "will include ``count``, ``unique``, ``top``, and ``freq``. The ``top``\n",
              "is the most common value. The ``freq`` is the most common value&#x27;s\n",
              "frequency. Timestamps also include the ``first`` and ``last`` items.\n",
              "\n",
              "If multiple object values have the highest count, then the\n",
              "``count`` and ``top`` results will be arbitrarily chosen from\n",
              "among those with the highest count.\n",
              "\n",
              "For mixed data types provided via a ``DataFrame``, the default is to\n",
              "return only an analysis of numeric columns. If the dataframe consists\n",
              "only of object and categorical data without any numeric columns, the\n",
              "default is to return an analysis of both the object and categorical\n",
              "columns. If ``include=&#x27;all&#x27;`` is provided as an option, the result\n",
              "will include a union of attributes of each type.\n",
              "\n",
              "The `include` and `exclude` parameters can be used to limit\n",
              "which columns in a ``DataFrame`` are analyzed for the output.\n",
              "The parameters are ignored when analyzing a ``Series``.\n",
              "\n",
              "Examples\n",
              "--------\n",
              "Describing a numeric ``Series``.\n",
              "\n",
              "&gt;&gt;&gt; s = pd.Series([1, 2, 3])\n",
              "&gt;&gt;&gt; s.describe()\n",
              "count    3.0\n",
              "mean     2.0\n",
              "std      1.0\n",
              "min      1.0\n",
              "25%      1.5\n",
              "50%      2.0\n",
              "75%      2.5\n",
              "max      3.0\n",
              "dtype: float64\n",
              "\n",
              "Describing a categorical ``Series``.\n",
              "\n",
              "&gt;&gt;&gt; s = pd.Series([&#x27;a&#x27;, &#x27;a&#x27;, &#x27;b&#x27;, &#x27;c&#x27;])\n",
              "&gt;&gt;&gt; s.describe()\n",
              "count     4\n",
              "unique    3\n",
              "top       a\n",
              "freq      2\n",
              "dtype: object\n",
              "\n",
              "Describing a timestamp ``Series``.\n",
              "\n",
              "&gt;&gt;&gt; s = pd.Series([\n",
              "...     np.datetime64(&quot;2000-01-01&quot;),\n",
              "...     np.datetime64(&quot;2010-01-01&quot;),\n",
              "...     np.datetime64(&quot;2010-01-01&quot;)\n",
              "... ])\n",
              "&gt;&gt;&gt; s.describe()\n",
              "count                      3\n",
              "mean     2006-09-01 08:00:00\n",
              "min      2000-01-01 00:00:00\n",
              "25%      2004-12-31 12:00:00\n",
              "50%      2010-01-01 00:00:00\n",
              "75%      2010-01-01 00:00:00\n",
              "max      2010-01-01 00:00:00\n",
              "dtype: object\n",
              "\n",
              "Describing a ``DataFrame``. By default only numeric fields\n",
              "are returned.\n",
              "\n",
              "&gt;&gt;&gt; df = pd.DataFrame({&#x27;categorical&#x27;: pd.Categorical([&#x27;d&#x27;, &#x27;e&#x27;, &#x27;f&#x27;]),\n",
              "...                    &#x27;numeric&#x27;: [1, 2, 3],\n",
              "...                    &#x27;object&#x27;: [&#x27;a&#x27;, &#x27;b&#x27;, &#x27;c&#x27;]\n",
              "...                    })\n",
              "&gt;&gt;&gt; df.describe()\n",
              "       numeric\n",
              "count      3.0\n",
              "mean       2.0\n",
              "std        1.0\n",
              "min        1.0\n",
              "25%        1.5\n",
              "50%        2.0\n",
              "75%        2.5\n",
              "max        3.0\n",
              "\n",
              "Describing all columns of a ``DataFrame`` regardless of data type.\n",
              "\n",
              "&gt;&gt;&gt; df.describe(include=&#x27;all&#x27;)  # doctest: +SKIP\n",
              "       categorical  numeric object\n",
              "count            3      3.0      3\n",
              "unique           3      NaN      3\n",
              "top              f      NaN      a\n",
              "freq             1      NaN      1\n",
              "mean           NaN      2.0    NaN\n",
              "std            NaN      1.0    NaN\n",
              "min            NaN      1.0    NaN\n",
              "25%            NaN      1.5    NaN\n",
              "50%            NaN      2.0    NaN\n",
              "75%            NaN      2.5    NaN\n",
              "max            NaN      3.0    NaN\n",
              "\n",
              "Describing a column from a ``DataFrame`` by accessing it as\n",
              "an attribute.\n",
              "\n",
              "&gt;&gt;&gt; df.numeric.describe()\n",
              "count    3.0\n",
              "mean     2.0\n",
              "std      1.0\n",
              "min      1.0\n",
              "25%      1.5\n",
              "50%      2.0\n",
              "75%      2.5\n",
              "max      3.0\n",
              "Name: numeric, dtype: float64\n",
              "\n",
              "Including only numeric columns in a ``DataFrame`` description.\n",
              "\n",
              "&gt;&gt;&gt; df.describe(include=[np.number])\n",
              "       numeric\n",
              "count      3.0\n",
              "mean       2.0\n",
              "std        1.0\n",
              "min        1.0\n",
              "25%        1.5\n",
              "50%        2.0\n",
              "75%        2.5\n",
              "max        3.0\n",
              "\n",
              "Including only string columns in a ``DataFrame`` description.\n",
              "\n",
              "&gt;&gt;&gt; df.describe(include=[object])  # doctest: +SKIP\n",
              "       object\n",
              "count       3\n",
              "unique      3\n",
              "top         a\n",
              "freq        1\n",
              "\n",
              "Including only categorical columns from a ``DataFrame`` description.\n",
              "\n",
              "&gt;&gt;&gt; df.describe(include=[&#x27;category&#x27;])\n",
              "       categorical\n",
              "count            3\n",
              "unique           3\n",
              "top              d\n",
              "freq             1\n",
              "\n",
              "Excluding numeric columns from a ``DataFrame`` description.\n",
              "\n",
              "&gt;&gt;&gt; df.describe(exclude=[np.number])  # doctest: +SKIP\n",
              "       categorical object\n",
              "count            3      3\n",
              "unique           3      3\n",
              "top              f      a\n",
              "freq             1      1\n",
              "\n",
              "Excluding object columns from a ``DataFrame`` description.\n",
              "\n",
              "&gt;&gt;&gt; df.describe(exclude=[object])  # doctest: +SKIP\n",
              "       categorical  numeric\n",
              "count            3      3.0\n",
              "unique           3      NaN\n",
              "top              f      NaN\n",
              "freq             1      NaN\n",
              "mean           NaN      2.0\n",
              "std            NaN      1.0\n",
              "min            NaN      1.0\n",
              "25%            NaN      1.5\n",
              "50%            NaN      2.0\n",
              "75%            NaN      2.5\n",
              "max            NaN      3.0</pre>\n",
              "      <script>\n",
              "      if (google.colab.kernel.accessAllowed && google.colab.files && google.colab.files.view) {\n",
              "        for (const element of document.querySelectorAll('.filepath')) {\n",
              "          element.style.display = 'block'\n",
              "          element.onclick = (event) => {\n",
              "            event.preventDefault();\n",
              "            event.stopPropagation();\n",
              "            google.colab.files.view(element.textContent, 11734);\n",
              "          };\n",
              "        }\n",
              "      }\n",
              "      for (const element of document.querySelectorAll('.function-repr-contents')) {\n",
              "        element.onclick = (event) => {\n",
              "          event.preventDefault();\n",
              "          event.stopPropagation();\n",
              "          element.classList.toggle('function-repr-contents-collapsed');\n",
              "        };\n",
              "      }\n",
              "      </script>\n",
              "      </div>"
            ]
          },
          "metadata": {},
          "execution_count": 44
        }
      ]
    },
    {
      "cell_type": "code",
      "source": [
        "housing_data1.shape"
      ],
      "metadata": {
        "colab": {
          "base_uri": "https://localhost:8080/"
        },
        "id": "cEOzjYSvw6Q5",
        "outputId": "360b21d3-efca-49eb-e5b9-02a842f0eb38"
      },
      "execution_count": 45,
      "outputs": [
        {
          "output_type": "execute_result",
          "data": {
            "text/plain": [
              "(588, 8)"
            ]
          },
          "metadata": {},
          "execution_count": 45
        }
      ]
    },
    {
      "cell_type": "code",
      "source": [
        "housing_data2.shape"
      ],
      "metadata": {
        "colab": {
          "base_uri": "https://localhost:8080/"
        },
        "id": "eC7qkKnOWjrT",
        "outputId": "258bf816-acf4-4d39-cc76-3d7e390b3c60"
      },
      "execution_count": 46,
      "outputs": [
        {
          "output_type": "execute_result",
          "data": {
            "text/plain": [
              "(476745, 9)"
            ]
          },
          "metadata": {},
          "execution_count": 46
        }
      ]
    },
    {
      "cell_type": "code",
      "source": [
        "print(housing_data1.head())\n",
        "print(housing_data2.head())"
      ],
      "metadata": {
        "colab": {
          "base_uri": "https://localhost:8080/"
        },
        "id": "MVt0igjkVLZ1",
        "outputId": "d8262d61-d41e-4a07-c9e5-ca24e580f631"
      },
      "execution_count": 51,
      "outputs": [
        {
          "output_type": "stream",
          "name": "stdout",
          "text": [
            "  STATISTIC   Statistic Label  TLIST(A1)  Year C02343V02817      Area  UNIT  \\\n",
            "0   HSA06C1  New House Prices       1975  1975            -  National  Euro   \n",
            "1   HSA06C1  New House Prices       1975  1975           01    Dublin  Euro   \n",
            "2   HSA06C1  New House Prices       1975  1975           02      Cork  Euro   \n",
            "3   HSA06C1  New House Prices       1975  1975           03    Galway  Euro   \n",
            "4   HSA06C1  New House Prices       1975  1975           04  Limerick  Euro   \n",
            "\n",
            "     VALUE  \n",
            "0  13254.0  \n",
            "1  13137.0  \n",
            "2  12921.0  \n",
            "3  14420.0  \n",
            "4  13594.0  \n",
            "    SALE_DATE                                         ADDRESS POSTAL_CODE  \\\n",
            "0  2010-01-01          5 Braemor Drive, Churchtown, Co.Dublin         NaN   \n",
            "1  2010-01-03  134 Ashewood Walk, Summerhill Lane, Portlaoise         NaN   \n",
            "2  2010-01-04             1 Meadow Avenue, Dundrum, Dublin 14         NaN   \n",
            "3  2010-01-04                         1 The Haven, Mornington         NaN   \n",
            "4  2010-01-04                   11 Melville Heights, Kilkenny         NaN   \n",
            "\n",
            "     COUNTY  SALE_PRICE  IF_MARKET_PRICE  IF_VAT_EXCLUDED  \\\n",
            "0    Dublin    343000.0                0                0   \n",
            "1     Laois    185000.0                0                1   \n",
            "2    Dublin    438500.0                0                0   \n",
            "3     Meath    400000.0                0                0   \n",
            "4  Kilkenny    160000.0                0                0   \n",
            "\n",
            "                           PROPERTY_DESC  \\\n",
            "0  Second-Hand Dwelling house /Apartment   \n",
            "1          New Dwelling house /Apartment   \n",
            "2  Second-Hand Dwelling house /Apartment   \n",
            "3  Second-Hand Dwelling house /Apartment   \n",
            "4  Second-Hand Dwelling house /Apartment   \n",
            "\n",
            "                                  PROPERTY_SIZE_DESC  \n",
            "0                                                NaN  \n",
            "1  greater than or equal to 38 sq metres and less...  \n",
            "2                                                NaN  \n",
            "3                                                NaN  \n",
            "4                                                NaN  \n"
          ]
        }
      ]
    },
    {
      "cell_type": "code",
      "source": [
        "housing_data2['Year'] = pd.to_datetime(housing_data2['SALE_DATE']).dt.year"
      ],
      "metadata": {
        "id": "ZYv061a6ZJ1f"
      },
      "execution_count": 52,
      "outputs": []
    },
    {
      "cell_type": "code",
      "source": [
        "print(\"Mapping counties to areas...\")\n",
        "county_map = {\n",
        "    'Dublin': 'Dublin',\n",
        "    'Cork': 'Cork',\n",
        "    'Galway': 'Galway',\n",
        "    'Limerick': 'Limerick',\n",
        "    'Waterford': 'Waterford',\n",
        "    'Meath': 'Other areas',\n",
        "    'Kildare': 'Other areas',\n",
        "    'Wicklow': 'Other areas',\n",
        "    'Laois': 'Other areas',\n",
        "    'Kilkenny': 'Other areas'\n",
        "}"
      ],
      "metadata": {
        "colab": {
          "base_uri": "https://localhost:8080/"
        },
        "id": "p9fPMk_mZPxt",
        "outputId": "c8c639be-dd39-442e-9935-f59a991f6998"
      },
      "execution_count": 53,
      "outputs": [
        {
          "output_type": "stream",
          "name": "stdout",
          "text": [
            "Mapping counties to areas...\n"
          ]
        }
      ]
    },
    {
      "cell_type": "code",
      "source": [
        "housing_data2['Area'] = housing_data2['COUNTY'].map(county_map)"
      ],
      "metadata": {
        "id": "otwATNUlZlaW"
      },
      "execution_count": 54,
      "outputs": []
    },
    {
      "cell_type": "code",
      "source": [
        "housing_data2['Area'] = housing_data2['Area'].fillna('Other areas')"
      ],
      "metadata": {
        "id": "Hn7VqfnaZsB-"
      },
      "execution_count": 55,
      "outputs": []
    },
    {
      "cell_type": "code",
      "source": [
        "#Checking the property types between second hand or new houses\n",
        "housing_data2['Statistic Label'] = 'Second Hand House Prices'\n",
        "try:\n",
        "    new_mask = housing_data2['PROPERTY_DESC'].str.contains('New', case=False)\n",
        "    housing_data2.loc[new_mask, 'Statistic Label'] = 'New House Prices'\n",
        "except:\n",
        "    print(\"Warning: Couldn't determine all property types, some might be incorrect\")\n",
        "\n"
      ],
      "metadata": {
        "id": "We8ubHKwZ1L4"
      },
      "execution_count": 58,
      "outputs": []
    },
    {
      "cell_type": "code",
      "source": [
        "housing_data2.rename(columns={'SALE_PRICE': 'VALUE'}, inplace=True)"
      ],
      "metadata": {
        "id": "3fTM_3YaaoT6"
      },
      "execution_count": 59,
      "outputs": []
    },
    {
      "cell_type": "code",
      "source": [
        "housing_data2_avg = housing_data2.groupby(['Year', 'Area', 'Statistic Label'])['VALUE'].mean().reset_index()\n"
      ],
      "metadata": {
        "id": "Jx7YejuFeT5b"
      },
      "execution_count": 60,
      "outputs": []
    },
    {
      "cell_type": "code",
      "source": [
        "print(\"Aggregating transaction data...\")\n",
        "housing_data2_avg = housing_data2.groupby(['Year', 'Area', 'Statistic Label'])['VALUE'].mean().round(0).reset_index()\n"
      ],
      "metadata": {
        "colab": {
          "base_uri": "https://localhost:8080/"
        },
        "id": "NEmfVkdqegEz",
        "outputId": "fb00f216-a8ae-451a-adc5-d7a11c2c7a66"
      },
      "execution_count": 65,
      "outputs": [
        {
          "output_type": "stream",
          "name": "stdout",
          "text": [
            "Aggregating transaction data...\n"
          ]
        }
      ]
    },
    {
      "cell_type": "code",
      "source": [
        "\n",
        "housing_data2_avg['Property Type'] = housing_data2_avg['Statistic Label']\n",
        "\n",
        "\n",
        "\n",
        "housing_data1_simple = housing_data1[['Year', 'Area', 'Statistic Label', 'VALUE']].copy()\n",
        "housing_data1_simple.rename(columns={'Statistic Label': 'Property Type'}, inplace=True)\n",
        "\n",
        "housing_data2_simple = housing_data2_avg[['Year', 'Area', 'Property Type', 'VALUE']].copy()\n",
        "\n",
        "print(\"First dataset after simplification:\")\n",
        "print(housing_data1_simple.head())\n",
        "print(\"Second dataset after simplification:\")\n",
        "print(housing_data2_simple.head())\n",
        "\n"
      ],
      "metadata": {
        "id": "5KFxGoOLc7sc",
        "colab": {
          "base_uri": "https://localhost:8080/"
        },
        "outputId": "def0ee6b-9347-4b26-c340-27220cf4739e"
      },
      "execution_count": 66,
      "outputs": [
        {
          "output_type": "stream",
          "name": "stdout",
          "text": [
            "First dataset after simplification:\n",
            "   Year      Area     Property Type    VALUE\n",
            "0  1975  National  New House Prices  13254.0\n",
            "1  1975    Dublin  New House Prices  13137.0\n",
            "2  1975      Cork  New House Prices  12921.0\n",
            "3  1975    Galway  New House Prices  14420.0\n",
            "4  1975  Limerick  New House Prices  13594.0\n",
            "Second dataset after simplification:\n",
            "   Year    Area             Property Type     VALUE\n",
            "0  2010    Cork          New House Prices  248630.0\n",
            "1  2010    Cork  Second Hand House Prices  224531.0\n",
            "2  2010  Dublin          New House Prices  249783.0\n",
            "3  2010  Dublin  Second Hand House Prices  352774.0\n",
            "4  2010  Galway          New House Prices  207723.0\n"
          ]
        }
      ]
    },
    {
      "cell_type": "code",
      "source": [
        "print(\"different the datasets are in the overlap years...\")\n",
        "data1_overlap = housing_data1_simple[(housing_data1_simple['Year'] >= 2010) & (housing_data1_simple['Year'] <= 2016)]\n",
        "data2_overlap = housing_data2_simple[(housing_data2_simple['Year'] >= 2010) & (housing_data2_simple['Year'] <= 2016)]\n",
        "data1_avg = data1_overlap.groupby(['Area', 'Property Type'])['VALUE'].mean()\n",
        "data2_avg = data2_overlap.groupby(['Area', 'Property Type'])['VALUE'].mean()\n",
        "\n",
        "\n",
        "print(data1_avg)\n",
        "\n",
        "print(data2_avg)\n",
        "\n",
        "\n",
        "avg_diff_pct = ((data2_avg - data1_avg) / data1_avg * 100)\n",
        "print(\"Percentage difference:\")\n",
        "print(avg_diff_pct)\n"
      ],
      "metadata": {
        "colab": {
          "base_uri": "https://localhost:8080/"
        },
        "id": "8ur82siSzk4Q",
        "outputId": "5b5989b0-75dc-40f1-a19c-3cb26999ace0"
      },
      "execution_count": 76,
      "outputs": [
        {
          "output_type": "stream",
          "name": "stdout",
          "text": [
            "different the datasets are in the overlap years...\n",
            "Area         Property Type           \n",
            "Cork         New House Prices            250260.428571\n",
            "             Second Hand House Prices    226159.714286\n",
            "Dublin       New House Prices            316790.428571\n",
            "             Second Hand House Prices    340148.285714\n",
            "Galway       New House Prices            229692.428571\n",
            "             Second Hand House Prices    210513.857143\n",
            "Limerick     New House Prices            220100.000000\n",
            "             Second Hand House Prices    189124.285714\n",
            "National     New House Prices            249785.000000\n",
            "             Second Hand House Prices    263146.714286\n",
            "Other areas  New House Prices            226879.714286\n",
            "             Second Hand House Prices    193537.000000\n",
            "Waterford    New House Prices            199060.428571\n",
            "             Second Hand House Prices    176053.285714\n",
            "Name: VALUE, dtype: float64\n",
            "Area         Property Type           \n",
            "Cork         New House Prices            202782.571429\n",
            "             Second Hand House Prices    193855.285714\n",
            "Dublin       New House Prices            288563.142857\n",
            "             Second Hand House Prices    345106.285714\n",
            "Galway       New House Prices            170019.142857\n",
            "             Second Hand House Prices    180453.142857\n",
            "Limerick     New House Prices            158597.571429\n",
            "             Second Hand House Prices    148600.000000\n",
            "Other areas  New House Prices            160601.285714\n",
            "             Second Hand House Prices    152291.714286\n",
            "Waterford    New House Prices            146634.142857\n",
            "             Second Hand House Prices    136910.428571\n",
            "Name: VALUE, dtype: float64\n",
            "Percentage difference:\n",
            "Area         Property Type           \n",
            "Cork         New House Prices           -18.971380\n",
            "             Second Hand House Prices   -14.283901\n",
            "Dublin       New House Prices            -8.910397\n",
            "             Second Hand House Prices     1.457600\n",
            "Galway       New House Prices           -25.979649\n",
            "             Second Hand House Prices   -14.279684\n",
            "Limerick     New House Prices           -27.942948\n",
            "             Second Hand House Prices   -21.427330\n",
            "National     New House Prices                  NaN\n",
            "             Second Hand House Prices          NaN\n",
            "Other areas  New House Prices           -29.213025\n",
            "             Second Hand House Prices   -21.311318\n",
            "Waterford    New House Prices           -26.336870\n",
            "             Second Hand House Prices   -22.233528\n",
            "Name: VALUE, dtype: float64\n"
          ]
        }
      ]
    },
    {
      "cell_type": "code",
      "source": [
        "combined_data = pd.concat([\n",
        "    housing_data1_simple[housing_data1_simple['Year'] < 2010],\n",
        "    housing_data2_simple\n",
        "], ignore_index=True)\n"
      ],
      "metadata": {
        "id": "0VEMZBWC0hCV"
      },
      "execution_count": 85,
      "outputs": []
    },
    {
      "cell_type": "code",
      "source": [
        "combined_data.shape\n",
        "\n",
        "\n",
        "min_year = combined_data['Year'].min()\n",
        "max_year = combined_data['Year'].max()\n",
        "\n",
        "print(min_year, max_year)"
      ],
      "metadata": {
        "colab": {
          "base_uri": "https://localhost:8080/"
        },
        "id": "TaSYl7xK0n4k",
        "outputId": "56ef142f-346e-42ac-ed8b-8fc5f81ad412"
      },
      "execution_count": 86,
      "outputs": [
        {
          "output_type": "stream",
          "name": "stdout",
          "text": [
            "1975 2021\n"
          ]
        }
      ]
    },
    {
      "cell_type": "code",
      "source": [
        "#Checking the Dublin data for now just to check\n",
        "dublin_data = combined_data[combined_data['Area'] == 'Dublin']\n",
        "for prop_type in dublin_data['Property Type'].unique():\n",
        "    data = dublin_data[dublin_data['Property Type'] == prop_type]\n",
        "    plt.plot(data['Year'], data['VALUE'], marker='o', label=prop_type)\n",
        "\n",
        "\n",
        "plt.legend()\n",
        "plt.grid(True)\n",
        "plt.show()\n"
      ],
      "metadata": {
        "colab": {
          "base_uri": "https://localhost:8080/",
          "height": 445
        },
        "id": "ywfDa7VAk-DJ",
        "outputId": "7dc66c40-2c46-4a43-ac93-6931f4b1860d"
      },
      "execution_count": 90,
      "outputs": [
        {
          "output_type": "display_data",
          "data": {
            "text/plain": [
              "<Figure size 640x480 with 1 Axes>"
            ],
            "image/png": "[encoded data removed]"
          },
          "metadata": {}
        }
      ]
    },
    {
      "cell_type": "code",
      "source": [
        "combined_data.to_csv('combined_housing_data.csv', index=False)\n"
      ],
      "metadata": {
        "id": "MYi-hWCalRZa"
      },
      "execution_count": null,
      "outputs": []
    },
    {
      "cell_type": "code",
      "source": [],
      "metadata": {
        "colab": {
          "base_uri": "https://localhost:8080/",
          "height": 954
        },
        "id": "yDA0k8Ba0vJq",
        "outputId": "94a23583-9397-40b4-d936-a45b93a6a3ae"
      },
      "execution_count": 13,
      "outputs": [
        {
          "output_type": "display_data",
          "data": {
            "text/plain": [
              "<Figure size 1200x600 with 1 Axes>"
            ],
            "image/png": "[encoded data removed]"
          },
          "metadata": {}
        },
        {
          "output_type": "stream",
          "name": "stdout",
          "text": [
            "Summary statistics by area:\n",
            "             count           mean            std      min       25%      50%  \\\n",
            "Area                                                                           \n",
            "Cork          84.0  133477.915972  103825.245647  12921.0  42697.75  81251.5   \n",
            "Dublin        84.0  177240.880952  145713.369373  12774.0  50078.00  92998.5   \n",
            "Galway        84.0  133233.380258   96771.833234  14420.0  48205.50  90535.0   \n",
            "Limerick      84.0  117364.725496   84495.700000  13594.0  43802.00  75802.0   \n",
            "National      84.0  140816.059524  109723.352707  12478.0  46149.50  81811.5   \n",
            "Other areas   84.0  122495.023115   90994.088088  13833.0  44082.25  78172.5   \n",
            "Waterford     84.0  114232.606449   85529.389896  12636.0  43049.25  71629.0   \n",
            "\n",
            "                   75%       max  \n",
            "Area                              \n",
            "Cork         236069.25  368523.0  \n",
            "Dublin       321367.25  512461.0  \n",
            "Galway       218089.00  344958.0  \n",
            "Limerick     199025.25  288202.0  \n",
            "National     247066.50  377850.0  \n",
            "Other areas  204237.00  313487.0  \n",
            "Waterford    179635.75  292057.0  \n"
          ]
        }
      ]
    },
    {
      "cell_type": "code",
      "source": [],
      "metadata": {
        "id": "vDmP3NQikB6J"
      },
      "execution_count": 17,
      "outputs": []
    },
    {
      "cell_type": "code",
      "source": [],
      "metadata": {
        "colab": {
          "base_uri": "https://localhost:8080/"
        },
        "id": "qbGTh-CvKv4Q",
        "outputId": "7d9cfcb2-d0bd-4754-e09c-220b43005aaf"
      },
      "execution_count": 19,
      "outputs": [
        {
          "output_type": "stream",
          "name": "stdout",
          "text": [
            "Checking housing prices by area:\n",
            "                      mean   median      min       max  count\n",
            "Area                                                         \n",
            "Dublin       177240.880952  92998.5  12774.0  512461.0     84\n",
            "National     140816.059524  81811.5  12478.0  377850.0     84\n",
            "Cork         133477.915972  81251.5  12921.0  368523.0     84\n",
            "Galway       133233.380258  90535.0  14420.0  344958.0     84\n",
            "Other areas  122495.023115  78172.5  13833.0  313487.0     84\n",
            "Limerick     117364.725496  75802.0  13594.0  288202.0     84\n",
            "Waterford    114232.606449  71629.0  12636.0  292057.0     84\n"
          ]
        }
      ]
    },
    {
      "cell_type": "code",
      "source": [],
      "metadata": {
        "colab": {
          "base_uri": "https://localhost:8080/"
        },
        "id": "mFzKKdsOS9la",
        "outputId": "6715fe1e-1bf6-41b1-b562-e51a7d158905"
      },
      "execution_count": 20,
      "outputs": [
        {
          "output_type": "stream",
          "name": "stdout",
          "text": [
            "\n",
            "House prices by year:\n",
            "               mean    median       min            max  count\n",
            "Year                                                         \n",
            "1975   56404.407743   13713.5   12478.0  134122.941681     14\n",
            "1976   15322.071429   15322.5   13900.0   17842.000000     14\n",
            "1977   18432.000000   18338.5   15980.0   21715.000000     14\n",
            "1978   22864.214286   22649.5   19736.0   27862.000000     14\n",
            "1979   28060.500000   28399.0   22565.0   32005.000000     14\n",
            "1980   32319.500000   32820.5   25966.0   37822.000000     14\n",
            "1981   37559.214286   37625.5   29994.0   44456.000000     14\n",
            "1982   40682.428571   41024.5   31957.0   48886.000000     14\n",
            "1983   42053.857143   42537.5   33706.0   48249.000000     14\n",
            "1984   43811.000000   43884.5   37032.0   50936.000000     14\n",
            "1985   45011.500000   44784.5   40210.0   50382.000000     14\n",
            "1986   46525.642857   47152.0   38473.0   51450.000000     14\n",
            "1987   46264.000000   46378.5   42243.0   50864.000000     14\n",
            "1988   50298.428571   50053.0   43318.0   57994.000000     14\n",
            "1989   54635.642857   54628.0   46400.0   68393.000000     14\n",
            "1990   61259.714286   61243.5   49041.0   80749.000000     14\n",
            "1991   62201.357143   63174.0   48188.0   78715.000000     14\n",
            "1992   63725.285714   62653.5   52656.0   79200.000000     14\n",
            "1993   66604.214286   66780.5   57908.0   76814.000000     14\n",
            "1994   69202.785714   69221.5   55347.0   82772.000000     14\n",
            "1995   74377.071429   73830.5   59409.0   88939.000000     14\n",
            "1996   83666.071429   84316.0   62956.0  104431.000000     14\n",
            "1997   97768.928571   95355.0   73308.0  131258.000000     14\n",
            "1998  121183.928571  114361.0   93948.0  176420.000000     14\n",
            "1999  145954.928571  139200.5  115768.0  210610.000000     14\n",
            "2000  170141.642857  164984.5  141662.0  247039.000000     14\n",
            "2001  183805.214286  172876.5  152205.0  267939.000000     14\n",
            "2002  200629.928571  189954.0  167272.0  297424.000000     14\n",
            "2003  234225.500000  220724.5  195173.0  355451.000000     14\n",
            "2004  258764.928571  240038.0  210868.0  389791.000000     14\n",
            "2005  288405.000000  270274.5  226393.0  438790.000000     14\n",
            "2006  323944.571429  299518.0  257958.0  512461.000000     14\n",
            "2007  335960.214286  318060.5  273640.0  495576.000000     14\n",
            "2008  317320.642857  301752.0  259997.0  444207.000000     14\n",
            "2009  248151.428571  243628.5  198208.0  345444.000000     14\n",
            "2010  238791.285714  226523.0  197234.0  344891.000000     14\n",
            "2011  232939.928571  222755.5  190315.0  330894.000000     14\n",
            "2012  219980.357143  216067.5  169142.0  320947.000000     14\n",
            "2013  220218.857143  209148.0  154051.0  350239.000000     14\n",
            "2014  227224.214286  212165.0  168446.0  347700.000000     14\n",
            "2015  244042.857143  236924.5  167364.0  377741.000000     14\n",
            "2016  262428.285714  251449.0  179609.0  397676.000000     14\n"
          ]
        }
      ]
    }
  ]
}